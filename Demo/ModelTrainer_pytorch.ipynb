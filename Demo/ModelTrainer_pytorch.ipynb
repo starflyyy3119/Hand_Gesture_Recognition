{
 "cells": [
  {
   "cell_type": "code",
   "execution_count": 2,
   "id": "367dbff7",
   "metadata": {
    "ExecuteTime": {
     "end_time": "2022-08-14T02:29:03.637679Z",
     "start_time": "2022-08-14T02:28:56.527588Z"
    }
   },
   "outputs": [
    {
     "name": "stdout",
     "output_type": "stream",
     "text": [
      "Collecting opencv-python\n",
      "  Downloading opencv_python-4.6.0.66-cp37-abi3-macosx_11_0_arm64.whl (30.0 MB)\n",
      "\u001b[K     |████████████████████████████████| 30.0 MB 14.5 MB/s eta 0:00:01\n",
      "\u001b[?25hRequirement already satisfied: numpy>=1.17.3 in /Users/starfly/opt/anaconda3/lib/python3.9/site-packages (from opencv-python) (1.21.5)\n",
      "Installing collected packages: opencv-python\n",
      "Successfully installed opencv-python-4.6.0.66\n"
     ]
    }
   ],
   "source": [
    "!pip install opencv-python"
   ]
  },
  {
   "cell_type": "code",
   "execution_count": 17,
   "id": "5cf16517",
   "metadata": {
    "ExecuteTime": {
     "end_time": "2022-08-14T03:20:29.306448Z",
     "start_time": "2022-08-14T03:20:25.568288Z"
    }
   },
   "outputs": [
    {
     "name": "stdout",
     "output_type": "stream",
     "text": [
      "Collecting torchsummary\n",
      "  Downloading torchsummary-1.5.1-py3-none-any.whl (2.8 kB)\n",
      "Installing collected packages: torchsummary\n",
      "Successfully installed torchsummary-1.5.1\n"
     ]
    }
   ],
   "source": [
    "!pip install torchsummary"
   ]
  },
  {
   "cell_type": "code",
   "execution_count": 79,
   "id": "ae4ab687",
   "metadata": {
    "ExecuteTime": {
     "end_time": "2022-08-14T08:38:06.896556Z",
     "start_time": "2022-08-14T08:38:05.497324Z"
    }
   },
   "outputs": [
    {
     "name": "stdout",
     "output_type": "stream",
     "text": [
      "Requirement already satisfied: seaborn in /Users/starfly/opt/anaconda3/lib/python3.9/site-packages (0.11.2)\n",
      "Requirement already satisfied: scipy>=1.0 in /Users/starfly/opt/anaconda3/lib/python3.9/site-packages (from seaborn) (1.7.3)\n",
      "Requirement already satisfied: pandas>=0.23 in /Users/starfly/opt/anaconda3/lib/python3.9/site-packages (from seaborn) (1.4.2)\n",
      "Requirement already satisfied: numpy>=1.15 in /Users/starfly/opt/anaconda3/lib/python3.9/site-packages (from seaborn) (1.21.5)\n",
      "Requirement already satisfied: matplotlib>=2.2 in /Users/starfly/opt/anaconda3/lib/python3.9/site-packages (from seaborn) (3.5.1)\n",
      "Requirement already satisfied: kiwisolver>=1.0.1 in /Users/starfly/opt/anaconda3/lib/python3.9/site-packages (from matplotlib>=2.2->seaborn) (1.4.2)\n",
      "Requirement already satisfied: fonttools>=4.22.0 in /Users/starfly/opt/anaconda3/lib/python3.9/site-packages (from matplotlib>=2.2->seaborn) (4.25.0)\n",
      "Requirement already satisfied: pillow>=6.2.0 in /Users/starfly/opt/anaconda3/lib/python3.9/site-packages (from matplotlib>=2.2->seaborn) (9.0.1)\n",
      "Requirement already satisfied: pyparsing>=2.2.1 in /Users/starfly/opt/anaconda3/lib/python3.9/site-packages (from matplotlib>=2.2->seaborn) (3.0.4)\n",
      "Requirement already satisfied: packaging>=20.0 in /Users/starfly/opt/anaconda3/lib/python3.9/site-packages (from matplotlib>=2.2->seaborn) (21.3)\n",
      "Requirement already satisfied: python-dateutil>=2.7 in /Users/starfly/opt/anaconda3/lib/python3.9/site-packages (from matplotlib>=2.2->seaborn) (2.8.2)\n",
      "Requirement already satisfied: cycler>=0.10 in /Users/starfly/opt/anaconda3/lib/python3.9/site-packages (from matplotlib>=2.2->seaborn) (0.11.0)\n",
      "Requirement already satisfied: pytz>=2020.1 in /Users/starfly/opt/anaconda3/lib/python3.9/site-packages (from pandas>=0.23->seaborn) (2021.3)\n",
      "Requirement already satisfied: six>=1.5 in /Users/starfly/opt/anaconda3/lib/python3.9/site-packages (from python-dateutil>=2.7->matplotlib>=2.2->seaborn) (1.16.0)\n"
     ]
    }
   ],
   "source": [
    "!pip install seaborn"
   ]
  },
  {
   "cell_type": "code",
   "execution_count": 1,
   "id": "c1ba324e",
   "metadata": {
    "ExecuteTime": {
     "end_time": "2022-08-14T09:05:08.642559Z",
     "start_time": "2022-08-14T09:05:07.846289Z"
    }
   },
   "outputs": [],
   "source": [
    "import cv2\n",
    "import torch\n",
    "import torchvision\n",
    "import torchvision.transforms as transforms\n",
    "from torch.utils.data import Dataset\n",
    "from torchvision import datasets\n",
    "from torchvision.transforms import ToTensor\n",
    "from torch.utils.data import DataLoader\n",
    "from torchsummary import summary"
   ]
  },
  {
   "cell_type": "code",
   "execution_count": 2,
   "id": "4121de2e",
   "metadata": {
    "ExecuteTime": {
     "end_time": "2022-08-14T09:05:09.982722Z",
     "start_time": "2022-08-14T09:05:09.511565Z"
    }
   },
   "outputs": [],
   "source": [
    "#Load Images from Swing\n",
    "trainImages = []\n",
    "for i in range(0, 1000):\n",
    "    image = cv2.imread('Dataset/SwingImages/swing_' + str(i) + '.png')\n",
    "    gray_image = cv2.cvtColor(image, cv2.COLOR_BGR2GRAY)\n",
    "    trainImages.append(gray_image.reshape(89, 100, 1))\n",
    "\n",
    "#Load Images From Palm\n",
    "for i in range(0, 1000):\n",
    "    image = cv2.imread('Dataset/PalmImages/palm_' + str(i) + '.png')\n",
    "    gray_image = cv2.cvtColor(image, cv2.COLOR_BGR2GRAY)\n",
    "    trainImages.append(gray_image.reshape(89, 100, 1))\n",
    "    \n",
    "#Load Images From Fist\n",
    "for i in range(0, 1000):\n",
    "    image = cv2.imread('Dataset/FistImages/fist_' + str(i) + '.png')\n",
    "    gray_image = cv2.cvtColor(image, cv2.COLOR_BGR2GRAY)\n",
    "    trainImages.append(gray_image.reshape(89, 100, 1))"
   ]
  },
  {
   "cell_type": "code",
   "execution_count": 3,
   "id": "c13f10cd",
   "metadata": {
    "ExecuteTime": {
     "end_time": "2022-08-14T09:05:11.489564Z",
     "start_time": "2022-08-14T09:05:11.487424Z"
    }
   },
   "outputs": [],
   "source": [
    "# Create OutputVector\n",
    "# 三个类别分别为 0， 1， 2\n",
    "trainLabels = []\n",
    "for i in range(0, 1000):\n",
    "    trainLabels.append(0)\n",
    "\n",
    "for i in range(0, 1000):\n",
    "    trainLabels.append(1)\n",
    "\n",
    "for i in range(0, 1000):\n",
    "    trainLabels.append(2)"
   ]
  },
  {
   "cell_type": "code",
   "execution_count": 4,
   "id": "493d4a7c",
   "metadata": {
    "ExecuteTime": {
     "end_time": "2022-08-14T09:05:13.008790Z",
     "start_time": "2022-08-14T09:05:12.967220Z"
    }
   },
   "outputs": [],
   "source": [
    "testImages = []\n",
    "# 三个类别分别为 0， 1， 2\n",
    "#Load Images for swing\n",
    "for i in range(0, 100):\n",
    "    image = cv2.imread('Dataset/SwingTest/swing_' + str(i) + '.png')\n",
    "    gray_image = cv2.cvtColor(image, cv2.COLOR_BGR2GRAY)\n",
    "    testImages.append(gray_image.reshape(89, 100, 1))\n",
    "\n",
    "#Load Images for Palm\n",
    "for i in range(0, 100):\n",
    "    image = cv2.imread('Dataset/PalmTest/palm_' + str(i) + '.png')\n",
    "    gray_image = cv2.cvtColor(image, cv2.COLOR_BGR2GRAY)\n",
    "    testImages.append(gray_image.reshape(89, 100, 1))\n",
    "    \n",
    "#Load Images for Fist\n",
    "for i in range(0, 100):\n",
    "    image = cv2.imread('Dataset/FistTest/fist_' + str(i) + '.png')\n",
    "    gray_image = cv2.cvtColor(image, cv2.COLOR_BGR2GRAY)\n",
    "    testImages.append(gray_image.reshape(89, 100, 1))\n",
    "\n",
    "testLabels = []\n",
    "\n",
    "for i in range(0, 100):\n",
    "    testLabels.append(0)\n",
    "    \n",
    "for i in range(0, 100):\n",
    "    testLabels.append(1)\n",
    "\n",
    "for i in range(0, 100):\n",
    "    testLabels.append(2)"
   ]
  },
  {
   "cell_type": "code",
   "execution_count": 5,
   "id": "3f886c19",
   "metadata": {
    "ExecuteTime": {
     "end_time": "2022-08-14T09:05:14.623347Z",
     "start_time": "2022-08-14T09:05:14.620678Z"
    }
   },
   "outputs": [],
   "source": [
    "class CustomImageDataSet(Dataset):\n",
    "    def __init__(self, imgs, img_labels, transform = None):\n",
    "        self.imgs = imgs\n",
    "        self.img_labels = img_labels\n",
    "        self.transform = transform\n",
    "    def __len__(self):\n",
    "        return len(self.img_labels)\n",
    "    def __getitem__(self, idx):\n",
    "        image = self.imgs[idx]\n",
    "        label = self.img_labels[idx]\n",
    "        if self.transform:\n",
    "            image = self.transform(image)\n",
    "        image = image.permute(0, 1, 2)\n",
    "        return image, label"
   ]
  },
  {
   "cell_type": "code",
   "execution_count": 6,
   "id": "477c7d4a",
   "metadata": {
    "ExecuteTime": {
     "end_time": "2022-08-14T09:05:16.230398Z",
     "start_time": "2022-08-14T09:05:16.228580Z"
    }
   },
   "outputs": [],
   "source": [
    "# transform = transforms.Compose(\n",
    "#     [transforms.ToTensor(),\n",
    "#      transforms.Normalize((0.5,), (0.5,))])\n",
    "transform = transforms.ToTensor()"
   ]
  },
  {
   "cell_type": "code",
   "execution_count": 7,
   "id": "61ef8de1",
   "metadata": {
    "ExecuteTime": {
     "end_time": "2022-08-14T09:05:17.851379Z",
     "start_time": "2022-08-14T09:05:17.849874Z"
    }
   },
   "outputs": [],
   "source": [
    "train_data = CustomImageDataSet(trainImages, trainLabels, transform)\n",
    "test_data = CustomImageDataSet(testImages, testLabels, transform)"
   ]
  },
  {
   "cell_type": "code",
   "execution_count": 8,
   "id": "67d1299f",
   "metadata": {
    "ExecuteTime": {
     "end_time": "2022-08-14T09:05:19.459924Z",
     "start_time": "2022-08-14T09:05:19.458243Z"
    }
   },
   "outputs": [],
   "source": [
    "train_dataloader = DataLoader(train_data, batch_size=64, shuffle=True)\n",
    "test_dataloader = DataLoader(test_data, batch_size=1, shuffle=False)"
   ]
  },
  {
   "cell_type": "code",
   "execution_count": 9,
   "id": "1b410151",
   "metadata": {
    "ExecuteTime": {
     "end_time": "2022-08-14T09:05:21.073462Z",
     "start_time": "2022-08-14T09:05:21.066790Z"
    }
   },
   "outputs": [],
   "source": [
    "import torch.nn as nn\n",
    "import torch.nn.functional as F\n",
    "\n",
    "\n",
    "class Net(nn.Module):\n",
    "    def __init__(self):\n",
    "        super().__init__()\n",
    "        self.conv1 = nn.Conv2d(1, 32, 2, padding = 1)\n",
    "        self.conv2 = nn.Conv2d(32, 64, 2, padding = 1)\n",
    "        self.conv3 = nn.Conv2d(64, 128, 2, padding = 1)\n",
    "        self.conv4 = nn.Conv2d(128, 256, 2, padding = 1)\n",
    "        #self.conv5 = nn.Conv2d(256, 256, 2, padding = 1)\n",
    "        self.conv6 = nn.Conv2d(256, 128, 2, padding = 1)\n",
    "        self.conv7 = nn.Conv2d(128, 64, 2, padding = 1)\n",
    "        \n",
    "        self.pool = nn.MaxPool2d(2)\n",
    "        \n",
    "        self.fc1 = nn.Linear(64 * 2 * 2, 1000)\n",
    "        self.fc2 = nn.Linear(1000, 3)\n",
    "\n",
    "    def forward(self, x):\n",
    "        x = self.pool(F.relu(self.conv1(x)))\n",
    "        x = self.pool(F.relu(self.conv2(x)))\n",
    "        x = self.pool(F.relu(self.conv3(x)))\n",
    "        x = self.pool(F.relu(self.conv4(x)))\n",
    "        #x = self.pool(F.relu(self.conv5(x)))\n",
    "        x = self.pool(F.relu(self.conv6(x)))\n",
    "        x = self.pool(F.relu(self.conv7(x)))\n",
    "        \n",
    "        x = x.view(-1, 64 * 2 * 2) # flatten all dimensions except batch\n",
    "        x = F.relu(self.fc1(x))\n",
    "        x = self.fc2(x)\n",
    "        return x\n",
    "\n",
    "\n",
    "model = Net()"
   ]
  },
  {
   "cell_type": "code",
   "execution_count": 10,
   "id": "5b1346de",
   "metadata": {
    "ExecuteTime": {
     "end_time": "2022-08-14T09:05:22.685220Z",
     "start_time": "2022-08-14T09:05:22.681386Z"
    }
   },
   "outputs": [],
   "source": [
    "train_features, train_labels = next(iter(train_dataloader))"
   ]
  },
  {
   "cell_type": "code",
   "execution_count": 11,
   "id": "4107e1a8",
   "metadata": {
    "ExecuteTime": {
     "end_time": "2022-08-14T09:05:24.281619Z",
     "start_time": "2022-08-14T09:05:24.277279Z"
    }
   },
   "outputs": [
    {
     "data": {
      "text/plain": [
       "torch.Size([64, 1, 89, 100])"
      ]
     },
     "execution_count": 11,
     "metadata": {},
     "output_type": "execute_result"
    }
   ],
   "source": [
    "train_features.shape"
   ]
  },
  {
   "cell_type": "code",
   "execution_count": 12,
   "id": "c3d269b8",
   "metadata": {
    "ExecuteTime": {
     "end_time": "2022-08-14T09:05:25.914394Z",
     "start_time": "2022-08-14T09:05:25.907450Z"
    }
   },
   "outputs": [
    {
     "name": "stdout",
     "output_type": "stream",
     "text": [
      "----------------------------------------------------------------\n",
      "        Layer (type)               Output Shape         Param #\n",
      "================================================================\n",
      "            Conv2d-1          [-1, 32, 90, 101]             160\n",
      "         MaxPool2d-2           [-1, 32, 45, 50]               0\n",
      "            Conv2d-3           [-1, 64, 46, 51]           8,256\n",
      "         MaxPool2d-4           [-1, 64, 23, 25]               0\n",
      "            Conv2d-5          [-1, 128, 24, 26]          32,896\n",
      "         MaxPool2d-6          [-1, 128, 12, 13]               0\n",
      "            Conv2d-7          [-1, 256, 13, 14]         131,328\n",
      "         MaxPool2d-8            [-1, 256, 6, 7]               0\n",
      "            Conv2d-9            [-1, 128, 7, 8]         131,200\n",
      "        MaxPool2d-10            [-1, 128, 3, 4]               0\n",
      "           Conv2d-11             [-1, 64, 4, 5]          32,832\n",
      "        MaxPool2d-12             [-1, 64, 2, 2]               0\n",
      "           Linear-13                 [-1, 1000]         257,000\n",
      "           Linear-14                    [-1, 3]           3,003\n",
      "================================================================\n",
      "Total params: 596,675\n",
      "Trainable params: 596,675\n",
      "Non-trainable params: 0\n",
      "----------------------------------------------------------------\n",
      "Input size (MB): 0.03\n",
      "Forward/backward pass size (MB): 5.48\n",
      "Params size (MB): 2.28\n",
      "Estimated Total Size (MB): 7.79\n",
      "----------------------------------------------------------------\n"
     ]
    }
   ],
   "source": [
    "summary(model, input_size = (1, 89, 100))"
   ]
  },
  {
   "cell_type": "code",
   "execution_count": 13,
   "id": "87f54342",
   "metadata": {
    "ExecuteTime": {
     "end_time": "2022-08-14T09:05:27.539089Z",
     "start_time": "2022-08-14T09:05:27.537065Z"
    }
   },
   "outputs": [],
   "source": [
    "import torch.optim as optim\n",
    "\n",
    "criterion = nn.CrossEntropyLoss()\n",
    "optimizer = optim.SGD(model.parameters(), lr=0.001, momentum=0.9)"
   ]
  },
  {
   "cell_type": "code",
   "execution_count": 14,
   "id": "f2ca84d3",
   "metadata": {
    "ExecuteTime": {
     "end_time": "2022-08-14T09:05:29.160572Z",
     "start_time": "2022-08-14T09:05:29.158765Z"
    }
   },
   "outputs": [],
   "source": [
    "def multi_acc(y_pred, y_test):\n",
    "    y_pred_softmax = torch.log_softmax(y_pred, dim = 1)\n",
    "    _, y_pred_tags = torch.max(y_pred_softmax, dim = 1)    \n",
    "    correct_pred = (y_pred_tags == y_test).float()\n",
    "    acc = correct_pred.sum() / len(correct_pred)\n",
    "    acc = torch.round(acc * 100)\n",
    "    return acc"
   ]
  },
  {
   "cell_type": "code",
   "execution_count": 15,
   "id": "ae617581",
   "metadata": {
    "ExecuteTime": {
     "end_time": "2022-08-14T09:05:30.781115Z",
     "start_time": "2022-08-14T09:05:30.779424Z"
    }
   },
   "outputs": [],
   "source": [
    "accuracy_stats = {\n",
    "    'train': [],\n",
    "    \"val\": []\n",
    "}\n",
    "loss_stats = {\n",
    "    'train': [],\n",
    "    \"val\": []\n",
    "}"
   ]
  },
  {
   "cell_type": "code",
   "execution_count": 16,
   "id": "4b6dfbcb",
   "metadata": {
    "ExecuteTime": {
     "end_time": "2022-08-14T09:05:32.388497Z",
     "start_time": "2022-08-14T09:05:32.387325Z"
    }
   },
   "outputs": [],
   "source": [
    "device = 'cpu'"
   ]
  },
  {
   "cell_type": "code",
   "execution_count": 17,
   "id": "1ef03174",
   "metadata": {
    "ExecuteTime": {
     "end_time": "2022-08-14T09:05:33.991886Z",
     "start_time": "2022-08-14T09:05:33.990355Z"
    }
   },
   "outputs": [],
   "source": [
    "from tqdm.notebook import tqdm"
   ]
  },
  {
   "cell_type": "code",
   "execution_count": 18,
   "id": "380c823b",
   "metadata": {
    "ExecuteTime": {
     "end_time": "2022-08-14T09:17:53.024980Z",
     "start_time": "2022-08-14T09:05:35.597780Z"
    }
   },
   "outputs": [
    {
     "name": "stdout",
     "output_type": "stream",
     "text": [
      "Begin training.\n"
     ]
    },
    {
     "data": {
      "application/vnd.jupyter.widget-view+json": {
       "model_id": "599a77b3fada4bbd9122160d6c02afa8",
       "version_major": 2,
       "version_minor": 0
      },
      "text/plain": [
       "  0%|          | 0/50 [00:00<?, ?it/s]"
      ]
     },
     "metadata": {},
     "output_type": "display_data"
    },
    {
     "name": "stdout",
     "output_type": "stream",
     "text": [
      "Epoch 01: | Train Loss: 1.09862 | Val Loss: 1.09816 | Train Acc: 33.362| Val Acc: 32.000\n",
      "Epoch 02: | Train Loss: 1.09840 | Val Loss: 1.09897 | Train Acc: 33.383| Val Acc: 30.000\n",
      "Epoch 03: | Train Loss: 1.09824 | Val Loss: 1.09935 | Train Acc: 35.149| Val Acc: 30.000\n",
      "Epoch 04: | Train Loss: 1.09805 | Val Loss: 1.09778 | Train Acc: 33.426| Val Acc: 41.000\n",
      "Epoch 05: | Train Loss: 1.09796 | Val Loss: 1.09786 | Train Acc: 39.830| Val Acc: 45.000\n",
      "Epoch 06: | Train Loss: 1.09772 | Val Loss: 1.09785 | Train Acc: 39.511| Val Acc: 29.000\n",
      "Epoch 07: | Train Loss: 1.09759 | Val Loss: 1.09774 | Train Acc: 33.362| Val Acc: 27.000\n",
      "Epoch 08: | Train Loss: 1.09742 | Val Loss: 1.09724 | Train Acc: 53.511| Val Acc: 91.000\n",
      "Epoch 09: | Train Loss: 1.09719 | Val Loss: 1.09735 | Train Acc: 43.234| Val Acc: 34.000\n",
      "Epoch 10: | Train Loss: 1.09703 | Val Loss: 1.09694 | Train Acc: 43.319| Val Acc: 32.000\n",
      "Epoch 11: | Train Loss: 1.09682 | Val Loss: 1.09717 | Train Acc: 33.426| Val Acc: 29.000\n",
      "Epoch 12: | Train Loss: 1.09661 | Val Loss: 1.09674 | Train Acc: 53.149| Val Acc: 61.000\n",
      "Epoch 13: | Train Loss: 1.09631 | Val Loss: 1.09631 | Train Acc: 73.426| Val Acc: 79.000\n",
      "Epoch 14: | Train Loss: 1.09603 | Val Loss: 1.09559 | Train Acc: 44.298| Val Acc: 36.000\n",
      "Epoch 15: | Train Loss: 1.09562 | Val Loss: 1.09497 | Train Acc: 55.085| Val Acc: 93.000\n",
      "Epoch 16: | Train Loss: 1.09515 | Val Loss: 1.09456 | Train Acc: 49.723| Val Acc: 46.000\n",
      "Epoch 17: | Train Loss: 1.09466 | Val Loss: 1.09483 | Train Acc: 80.532| Val Acc: 73.000\n",
      "Epoch 18: | Train Loss: 1.09406 | Val Loss: 1.09405 | Train Acc: 57.617| Val Acc: 30.000\n",
      "Epoch 19: | Train Loss: 1.09336 | Val Loss: 1.09199 | Train Acc: 56.191| Val Acc: 38.000\n",
      "Epoch 20: | Train Loss: 1.09232 | Val Loss: 1.09252 | Train Acc: 55.830| Val Acc: 39.000\n",
      "Epoch 21: | Train Loss: 1.09112 | Val Loss: 1.09003 | Train Acc: 58.404| Val Acc: 62.000\n",
      "Epoch 22: | Train Loss: 1.08957 | Val Loss: 1.08957 | Train Acc: 47.681| Val Acc: 59.000\n",
      "Epoch 23: | Train Loss: 1.08768 | Val Loss: 1.08375 | Train Acc: 59.532| Val Acc: 64.000\n",
      "Epoch 24: | Train Loss: 1.08530 | Val Loss: 1.08312 | Train Acc: 74.106| Val Acc: 52.000\n",
      "Epoch 25: | Train Loss: 1.08188 | Val Loss: 1.08028 | Train Acc: 55.064| Val Acc: 55.000\n",
      "Epoch 26: | Train Loss: 1.07697 | Val Loss: 1.07022 | Train Acc: 60.106| Val Acc: 73.000\n",
      "Epoch 27: | Train Loss: 1.06962 | Val Loss: 1.05799 | Train Acc: 60.851| Val Acc: 86.000\n",
      "Epoch 28: | Train Loss: 1.05827 | Val Loss: 1.04994 | Train Acc: 57.702| Val Acc: 75.000\n",
      "Epoch 29: | Train Loss: 1.04002 | Val Loss: 1.02174 | Train Acc: 80.894| Val Acc: 84.000\n",
      "Epoch 30: | Train Loss: 1.00874 | Val Loss: 0.96661 | Train Acc: 82.553| Val Acc: 82.000\n",
      "Epoch 31: | Train Loss: 0.94816 | Val Loss: 0.88857 | Train Acc: 84.447| Val Acc: 84.000\n",
      "Epoch 32: | Train Loss: 0.81991 | Val Loss: 0.74838 | Train Acc: 90.362| Val Acc: 95.000\n",
      "Epoch 33: | Train Loss: 0.56387 | Val Loss: 0.37066 | Train Acc: 94.681| Val Acc: 98.000\n",
      "Epoch 34: | Train Loss: 0.27731 | Val Loss: 0.15438 | Train Acc: 96.638| Val Acc: 96.000\n",
      "Epoch 35: | Train Loss: 0.09146 | Val Loss: 0.05772 | Train Acc: 98.064| Val Acc: 98.000\n",
      "Epoch 36: | Train Loss: 0.03738 | Val Loss: 0.01358 | Train Acc: 98.830| Val Acc: 100.000\n",
      "Epoch 37: | Train Loss: 0.02167 | Val Loss: 0.01866 | Train Acc: 99.511| Val Acc: 100.000\n",
      "Epoch 38: | Train Loss: 0.01504 | Val Loss: 0.00442 | Train Acc: 99.745| Val Acc: 100.000\n",
      "Epoch 39: | Train Loss: 0.01108 | Val Loss: 0.01150 | Train Acc: 99.894| Val Acc: 100.000\n",
      "Epoch 40: | Train Loss: 0.00868 | Val Loss: 0.00184 | Train Acc: 99.915| Val Acc: 100.000\n",
      "Epoch 41: | Train Loss: 0.00657 | Val Loss: 0.00141 | Train Acc: 99.957| Val Acc: 100.000\n",
      "Epoch 42: | Train Loss: 0.00552 | Val Loss: 0.00512 | Train Acc: 100.000| Val Acc: 100.000\n",
      "Epoch 43: | Train Loss: 0.00437 | Val Loss: 0.00930 | Train Acc: 100.000| Val Acc: 100.000\n",
      "Epoch 44: | Train Loss: 0.00360 | Val Loss: 0.00198 | Train Acc: 100.000| Val Acc: 100.000\n",
      "Epoch 45: | Train Loss: 0.00313 | Val Loss: 0.00078 | Train Acc: 100.000| Val Acc: 100.000\n",
      "Epoch 46: | Train Loss: 0.00276 | Val Loss: 0.00134 | Train Acc: 100.000| Val Acc: 100.000\n",
      "Epoch 47: | Train Loss: 0.00254 | Val Loss: 0.00380 | Train Acc: 100.000| Val Acc: 100.000\n",
      "Epoch 48: | Train Loss: 0.00220 | Val Loss: 0.00099 | Train Acc: 100.000| Val Acc: 100.000\n",
      "Epoch 49: | Train Loss: 0.00201 | Val Loss: 0.00250 | Train Acc: 100.000| Val Acc: 100.000\n",
      "Epoch 50: | Train Loss: 0.00175 | Val Loss: 0.00204 | Train Acc: 100.000| Val Acc: 100.000\n"
     ]
    }
   ],
   "source": [
    "print(\"Begin training.\")\n",
    "for e in tqdm(range(1, 51)):\n",
    "    # TRAINING\n",
    "    train_epoch_loss = 0\n",
    "    train_epoch_acc = 0\n",
    "    model.train()\n",
    "    for X_train_batch, y_train_batch in train_dataloader:\n",
    "        X_train_batch, y_train_batch = X_train_batch.to(device), y_train_batch.to(device)\n",
    "        optimizer.zero_grad()\n",
    "        y_train_pred = model(X_train_batch).squeeze()\n",
    "        train_loss = criterion(y_train_pred, y_train_batch)\n",
    "        train_acc = multi_acc(y_train_pred, y_train_batch)\n",
    "        train_loss.backward()\n",
    "        optimizer.step()\n",
    "        train_epoch_loss += train_loss.item()\n",
    "        train_epoch_acc += train_acc.item()\n",
    "    # VALIDATION\n",
    "    with torch.no_grad():\n",
    "        model.eval()\n",
    "        val_epoch_loss = 0\n",
    "        val_epoch_acc = 0\n",
    "        for X_val_batch, y_val_batch in test_dataloader:\n",
    "            X_val_batch, y_val_batch = X_val_batch.to(device), y_val_batch.to(device)\n",
    "            y_val_pred = model(X_val_batch).squeeze()\n",
    "            y_val_pred = torch.unsqueeze(y_val_pred, 0)\n",
    "            val_loss = criterion(y_val_pred, y_val_batch)\n",
    "            val_acc = multi_acc(y_val_pred, y_val_batch)\n",
    "            val_epoch_loss += train_loss.item()\n",
    "            val_epoch_acc += train_acc.item()\n",
    "    loss_stats['train'].append(train_epoch_loss/len(train_dataloader))\n",
    "    loss_stats['val'].append(val_epoch_loss/len(test_dataloader))\n",
    "    accuracy_stats['train'].append(train_epoch_acc/len(train_dataloader))\n",
    "    accuracy_stats['val'].append(val_epoch_acc/len(test_dataloader))\n",
    "    print(f'Epoch {e+0:02}: | Train Loss: {train_epoch_loss/len(train_dataloader):.5f} | Val Loss: {val_epoch_loss/len(test_dataloader):.5f} | Train Acc: {train_epoch_acc/len(train_dataloader):.3f}| Val Acc: {val_epoch_acc/len(test_dataloader):.3f}')"
   ]
  },
  {
   "cell_type": "code",
   "execution_count": 19,
   "id": "de288022",
   "metadata": {
    "ExecuteTime": {
     "end_time": "2022-08-14T09:17:55.423500Z",
     "start_time": "2022-08-14T09:17:54.619154Z"
    }
   },
   "outputs": [],
   "source": [
    "import seaborn as sns\n",
    "import matplotlib.pyplot as plt\n",
    "import pandas as pd"
   ]
  },
  {
   "cell_type": "code",
   "execution_count": 20,
   "id": "270aa7e7",
   "metadata": {
    "ExecuteTime": {
     "end_time": "2022-08-14T09:17:57.283509Z",
     "start_time": "2022-08-14T09:17:57.033084Z"
    }
   },
   "outputs": [
    {
     "data": {
      "text/plain": [
       "Text(0.5, 1.0, 'Train-Val Loss/Epoch')"
      ]
     },
     "execution_count": 20,
     "metadata": {},
     "output_type": "execute_result"
    },
    {
     "data": {
      "image/png": "[encoded data removed]",
      "text/plain": [
       "<Figure size 2160x720 with 2 Axes>"
      ]
     },
     "metadata": {
      "needs_background": "light"
     },
     "output_type": "display_data"
    }
   ],
   "source": [
    "train_val_acc_df = pd.DataFrame.from_dict(accuracy_stats).reset_index().melt(id_vars=['index']).rename(columns={\"index\":\"epochs\"})\n",
    "train_val_loss_df = pd.DataFrame.from_dict(loss_stats).reset_index().melt(id_vars=['index']).rename(columns={\"index\":\"epochs\"})\n",
    "\n",
    "# Plot line charts\n",
    "fig, axes = plt.subplots(nrows=1, ncols=2, figsize=(30,10))\n",
    "sns.lineplot(data=train_val_acc_df, x = \"epochs\", y=\"value\", hue=\"variable\",  ax=axes[0]).set_title('Train-Val Accuracy/Epoch')\n",
    "sns.lineplot(data=train_val_loss_df, x = \"epochs\", y=\"value\", hue=\"variable\", ax=axes[1]).set_title('Train-Val Loss/Epoch')\n"
   ]
  },
  {
   "cell_type": "code",
   "execution_count": 25,
   "id": "b1e3af88",
   "metadata": {
    "ExecuteTime": {
     "end_time": "2022-08-15T11:31:04.307329Z",
     "start_time": "2022-08-15T11:31:04.283540Z"
    }
   },
   "outputs": [],
   "source": [
    "torch.save(model, './model/demo.pt')"
   ]
  }
 ],
 "metadata": {
  "kernelspec": {
   "display_name": "Python 3 (ipykernel)",
   "language": "python",
   "name": "python3"
  },
  "language_info": {
   "codemirror_mode": {
    "name": "ipython",
    "version": 3
   },
   "file_extension": ".py",
   "mimetype": "text/x-python",
   "name": "python",
   "nbconvert_exporter": "python",
   "pygments_lexer": "ipython3",
   "version": "3.9.12"
  },
  "latex_envs": {
   "LaTeX_envs_menu_present": true,
   "autoclose": false,
   "autocomplete": true,
   "bibliofile": "biblio.bib",
   "cite_by": "apalike",
   "current_citInitial": 1,
   "eqLabelWithNumbers": true,
   "eqNumInitial": 1,
   "hotkeys": {
    "equation": "Ctrl-E",
    "itemize": "Ctrl-I"
   },
   "labels_anchors": false,
   "latex_user_defs": false,
   "report_style_numbering": false,
   "user_envs_cfg": false
  },
  "toc": {
   "base_numbering": 1,
   "nav_menu": {},
   "number_sections": true,
   "sideBar": true,
   "skip_h1_title": false,
   "title_cell": "Table of Contents",
   "title_sidebar": "Contents",
   "toc_cell": false,
   "toc_position": {},
   "toc_section_display": true,
   "toc_window_display": false
  },
  "varInspector": {
   "cols": {
    "lenName": 16,
    "lenType": 16,
    "lenVar": 40
   },
   "kernels_config": {
    "python": {
     "delete_cmd_postfix": "",
     "delete_cmd_prefix": "del ",
     "library": "var_list.py",
     "varRefreshCmd": "print(var_dic_list())"
    },
    "r": {
     "delete_cmd_postfix": ") ",
     "delete_cmd_prefix": "rm(",
     "library": "var_list.r",
     "varRefreshCmd": "cat(var_dic_list()) "
    }
   },
   "types_to_exclude": [
    "module",
    "function",
    "builtin_function_or_method",
    "instance",
    "_Feature"
   ],
   "window_display": false
  }
 },
 "nbformat": 4,
 "nbformat_minor": 5
}
